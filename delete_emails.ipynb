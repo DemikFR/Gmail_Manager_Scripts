{
  "cells": [
    {
      "cell_type": "markdown",
      "source": [
        "# Delete some emails"
      ],
      "metadata": {
        "id": "zwdZx-tPgLyh"
      },
      "id": "zwdZx-tPgLyh"
    },
    {
      "cell_type": "code",
      "execution_count": 2,
      "metadata": {
        "id": "859142d8"
      },
      "outputs": [],
      "source": [
        "import imaplib\n",
        "import yaml\n",
        "import pandas as pd"
      ],
      "id": "859142d8"
    },
    {
      "cell_type": "markdown",
      "source": [
        "## Get the email of social media"
      ],
      "metadata": {
        "id": "YuE0Z9WHgYr3"
      },
      "id": "YuE0Z9WHgYr3"
    },
    {
      "cell_type": "code",
      "source": [
        "df = pd.read_csv('Emails_Dataset.csv', sep=';')"
      ],
      "metadata": {
        "id": "ad0cxUCBgzNo"
      },
      "id": "ad0cxUCBgzNo",
      "execution_count": 3,
      "outputs": []
    },
    {
      "cell_type": "code",
      "source": [
        "senders = ['Instagram', 'Twitter', 'Facebook', 'LinkedIn', 'TikTok', 'Pinterest', 'Reddit', 'YouTube',\n",
        "                'Telegram', 'Discord', 'Flickr', 'Twitch', 'Medium', 'Quora', 'Dafiti']"
      ],
      "metadata": {
        "id": "t4Wg-tQFgcsZ"
      },
      "id": "t4Wg-tQFgcsZ",
      "execution_count": 10,
      "outputs": []
    },
    {
      "cell_type": "code",
      "source": [
        "senders_regex = '|'.join(senders)\n",
        "senders_regex"
      ],
      "metadata": {
        "colab": {
          "base_uri": "https://localhost:8080/",
          "height": 53
        },
        "id": "enBds-Ngjfx4",
        "outputId": "bcd57af7-47c1-4045-8066-7eccba518a99"
      },
      "id": "enBds-Ngjfx4",
      "execution_count": 11,
      "outputs": [
        {
          "output_type": "execute_result",
          "data": {
            "text/plain": [
              "'Instagram|Twitter|Facebook|LinkedIn|TikTok|Pinterest|Reddit|YouTube|Telegram|Discord|Flickr|Twitch|Medium|Quora|Dafiti'"
            ],
            "application/vnd.google.colaboratory.intrinsic+json": {
              "type": "string"
            }
          },
          "metadata": {},
          "execution_count": 11
        }
      ]
    },
    {
      "cell_type": "code",
      "source": [
        "df_media = df[df['Sender'].str.contains(senders_regex, regex=True)]['Email'].drop_duplicates()\n",
        "df_media"
      ],
      "metadata": {
        "colab": {
          "base_uri": "https://localhost:8080/"
        },
        "id": "PSV1o2LHgxKB",
        "outputId": "4d8dcecf-6151-4df3-a6f2-7de55ebdd95a"
      },
      "id": "PSV1o2LHgxKB",
      "execution_count": 46,
      "outputs": [
        {
          "output_type": "execute_result",
          "data": {
            "text/plain": [
              "0                         messages-noreply@linkedin.com\n",
              "3                                     news@linkedin.com\n",
              "6                              invitations@linkedin.com\n",
              "16                           jobs-listings@linkedin.com\n",
              "18                   notifications-noreply@linkedin.com\n",
              "352                                    info@twitter.com\n",
              "361                                  notify@twitter.com\n",
              "492                                 noreply@youtube.com\n",
              "1234                          news-noreply@linkedin.com\n",
              "1438                       notifications@discordapp.com\n",
              "1647              career-interests-noreply@linkedin.com\n",
              "2273                       updates-noreply@linkedin.com\n",
              "2483                      noreply-purchases@youtube.com\n",
              "2794                               no-reply@youtube.com\n",
              "3271                                 verify@twitter.com\n",
              "3602              messaging-digest-noreply@linkedin.com\n",
              "3903                             noreply@redditmail.com\n",
              "4405                                 noreply@reddit.com\n",
              "5224                          jobs-noreply@linkedin.com\n",
              "6866                          notifications@discord.com\n",
              "6990                                noreply@discord.com\n",
              "7273                      security-noreply@linkedin.com\n",
              "8990                  no-reply@auto.email.dafiti.com.br\n",
              "9283                  no-reply@news.email.dafiti.com.br\n",
              "11857             english-personalized-digest@quora.com\n",
              "12568                      no-reply@promo.dafiti.com.br\n",
              "12999                  lifeshardlessons-space@quora.com\n",
              "13199                       rarestories-space@quora.com\n",
              "13222                                noreply@medium.com\n",
              "13229                            yourfriends@medium.com\n",
              "13411                        worldsnews-space@quora.com\n",
              "13608                       curiosity-noreply@quora.com\n",
              "14422                      usjkfootball-space@quora.com\n",
              "14610                   thatsfunnystuff-space@quora.com\n",
              "14727                                  hello@medium.com\n",
              "14817                snapshotsofhistory-space@quora.com\n",
              "15030    ancienthistoryandmysterylovers-space@quora.com\n",
              "15245                     collinsmagaji-space@quora.com\n",
              "16050                       goodvibesto-space@quora.com\n",
              "Name: Email, dtype: object"
            ]
          },
          "metadata": {},
          "execution_count": 46
        }
      ]
    },
    {
      "cell_type": "markdown",
      "metadata": {
        "id": "8635ab1a"
      },
      "source": [
        "## Get the emails"
      ],
      "id": "8635ab1a"
    },
    {
      "cell_type": "markdown",
      "metadata": {
        "id": "f9bd5f2f"
      },
      "source": [
        "### Open the file that have the gmail credentials"
      ],
      "id": "f9bd5f2f"
    },
    {
      "cell_type": "code",
      "execution_count": 39,
      "metadata": {
        "id": "161f9a73"
      },
      "outputs": [],
      "source": [
        "with open('credentials.yaml') as f:\n",
        "    credentials = f.read()"
      ],
      "id": "161f9a73"
    },
    {
      "cell_type": "markdown",
      "metadata": {
        "id": "2cdf2739"
      },
      "source": [
        "### Get the User and Password"
      ],
      "id": "2cdf2739"
    },
    {
      "cell_type": "code",
      "execution_count": 40,
      "metadata": {
        "id": "022268b4"
      },
      "outputs": [],
      "source": [
        "my_credentials = yaml.load(credentials, Loader = yaml.FullLoader)\n",
        "user, password = my_credentials['user'], my_credentials['password']"
      ],
      "id": "022268b4"
    },
    {
      "cell_type": "markdown",
      "metadata": {
        "id": "c2b6af9f"
      },
      "source": [
        "### Connect to Gmail"
      ],
      "id": "c2b6af9f"
    },
    {
      "cell_type": "code",
      "execution_count": 41,
      "metadata": {
        "colab": {
          "base_uri": "https://localhost:8080/"
        },
        "id": "f9f82cfb",
        "outputId": "59e94a13-5d01-449a-854b-01040848507e"
      },
      "outputs": [
        {
          "output_type": "execute_result",
          "data": {
            "text/plain": [
              "('OK', [b'demik.freitast2d18@gmail.com authenticated (Success)'])"
            ]
          },
          "metadata": {},
          "execution_count": 41
        }
      ],
      "source": [
        "imap_url = 'imap.gmail.com'\n",
        "my_email = imaplib.IMAP4_SSL(imap_url)\n",
        "my_email.login(user, password)"
      ],
      "id": "f9f82cfb"
    },
    {
      "cell_type": "markdown",
      "metadata": {
        "id": "d4b7a0ce"
      },
      "source": [
        "### Number of emails in my inbox"
      ],
      "id": "d4b7a0ce"
    },
    {
      "cell_type": "code",
      "execution_count": 42,
      "metadata": {
        "id": "018d823b",
        "colab": {
          "base_uri": "https://localhost:8080/",
          "height": 35
        },
        "outputId": "99d927d8-9951-4cde-b489-e99ce4325df6"
      },
      "outputs": [
        {
          "output_type": "execute_result",
          "data": {
            "text/plain": [
              "'18879'"
            ],
            "application/vnd.google.colaboratory.intrinsic+json": {
              "type": "string"
            }
          },
          "metadata": {},
          "execution_count": 42
        }
      ],
      "source": [
        "my_email.select('inbox')[1][0].decode()"
      ],
      "id": "018d823b"
    },
    {
      "cell_type": "markdown",
      "metadata": {
        "id": "333b2741"
      },
      "source": [
        "### Get the emails IDs for delete them"
      ],
      "id": "333b2741"
    },
    {
      "cell_type": "code",
      "execution_count": 52,
      "metadata": {
        "id": "c471e565"
      },
      "outputs": [],
      "source": [
        "emails_ids = []\n",
        "\n",
        "for i in df_media:\n",
        "  emails = my_email.search(None, f'FROM \"{i}\"')\n",
        "  emails_ids.extend(emails[1][0].decode().split())"
      ],
      "id": "c471e565"
    },
    {
      "cell_type": "markdown",
      "source": [
        "### Verify how many emails will be deleted"
      ],
      "metadata": {
        "id": "C1MVj5CKBqGH"
      },
      "id": "C1MVj5CKBqGH"
    },
    {
      "cell_type": "code",
      "source": [
        "len(emails_ids)"
      ],
      "metadata": {
        "colab": {
          "base_uri": "https://localhost:8080/"
        },
        "id": "2YOZyjAR4trk",
        "outputId": "a1c4e8ec-0fd3-41ba-ae24-1e31175270ad"
      },
      "id": "2YOZyjAR4trk",
      "execution_count": 53,
      "outputs": [
        {
          "output_type": "execute_result",
          "data": {
            "text/plain": [
              "3516"
            ]
          },
          "metadata": {},
          "execution_count": 53
        }
      ]
    },
    {
      "cell_type": "markdown",
      "source": [
        "### Move selected emails to the deleted folder"
      ],
      "metadata": {
        "id": "hEQkoJu7B6xX"
      },
      "id": "hEQkoJu7B6xX"
    },
    {
      "cell_type": "code",
      "source": [
        "for i in emails_ids:\n",
        "   my_email.store(i, '+FLAGS', '\\\\Deleted')"
      ],
      "metadata": {
        "id": "7qTQI2thcwgD"
      },
      "id": "7qTQI2thcwgD",
      "execution_count": 55,
      "outputs": []
    },
    {
      "cell_type": "markdown",
      "source": [
        "### Permanently removing deleted items from the selected mailbox."
      ],
      "metadata": {
        "id": "dM6eaXqwFJeI"
      },
      "id": "dM6eaXqwFJeI"
    },
    {
      "cell_type": "code",
      "source": [
        "my_email.expunge()"
      ],
      "metadata": {
        "id": "fUiaAYGXFJAC"
      },
      "id": "fUiaAYGXFJAC",
      "execution_count": null,
      "outputs": []
    }
  ],
  "metadata": {
    "colab": {
      "provenance": []
    },
    "kernelspec": {
      "display_name": "Python 3 (ipykernel)",
      "language": "python",
      "name": "python3"
    },
    "language_info": {
      "codemirror_mode": {
        "name": "ipython",
        "version": 3
      },
      "file_extension": ".py",
      "mimetype": "text/x-python",
      "name": "python",
      "nbconvert_exporter": "python",
      "pygments_lexer": "ipython3",
      "version": "3.9.12"
    }
  },
  "nbformat": 4,
  "nbformat_minor": 5
}