{
  "cells": [
    {
      "cell_type": "markdown",
      "metadata": {
        "id": "8635ab1a"
      },
      "source": [
        "## Get the emails"
      ],
      "id": "8635ab1a"
    },
    {
      "cell_type": "code",
      "execution_count": null,
      "metadata": {
        "id": "859142d8"
      },
      "outputs": [],
      "source": [
        "import imaplib\n",
        "import email\n",
        "import yaml\n",
        "import concurrent.futures\n",
        "import pandas as pd"
      ],
      "id": "859142d8"
    },
    {
      "cell_type": "markdown",
      "metadata": {
        "id": "f9bd5f2f"
      },
      "source": [
        "### Open the file that have the gmail credentials"
      ],
      "id": "f9bd5f2f"
    },
    {
      "cell_type": "code",
      "execution_count": null,
      "metadata": {
        "id": "161f9a73"
      },
      "outputs": [],
      "source": [
        "with open('credentials.yaml') as f:\n",
        "    credentials = f.read()"
      ],
      "id": "161f9a73"
    },
    {
      "cell_type": "markdown",
      "metadata": {
        "id": "2cdf2739"
      },
      "source": [
        "### Get the User and Password"
      ],
      "id": "2cdf2739"
    },
    {
      "cell_type": "code",
      "execution_count": null,
      "metadata": {
        "id": "022268b4"
      },
      "outputs": [],
      "source": [
        "my_credentials = yaml.load(credentials, Loader = yaml.FullLoader)\n",
        "user, password = my_credentials['user'], my_credentials['password']"
      ],
      "id": "022268b4"
    },
    {
      "cell_type": "markdown",
      "metadata": {
        "id": "c2b6af9f"
      },
      "source": [
        "### Connect to Gmail"
      ],
      "id": "c2b6af9f"
    },
    {
      "cell_type": "code",
      "execution_count": null,
      "metadata": {
        "colab": {
          "base_uri": "https://localhost:8080/"
        },
        "id": "f9f82cfb",
        "outputId": "9c6572ab-b288-4f91-a955-e6f84df1134b"
      },
      "outputs": [
        {
          "output_type": "execute_result",
          "data": {
            "text/plain": [
              "('OK', [b'demik.freitast2d18@gmail.com authenticated (Success)'])"
            ]
          },
          "metadata": {},
          "execution_count": 4
        }
      ],
      "source": [
        "imap_url = 'imap.gmail.com'\n",
        "my_email = imaplib.IMAP4_SSL(imap_url)\n",
        "my_email.login(user, password)"
      ],
      "id": "f9f82cfb"
    },
    {
      "cell_type": "markdown",
      "metadata": {
        "id": "d4b7a0ce"
      },
      "source": [
        "### Number of emails in my inbox"
      ],
      "id": "d4b7a0ce"
    },
    {
      "cell_type": "code",
      "execution_count": null,
      "metadata": {
        "colab": {
          "base_uri": "https://localhost:8080/",
          "height": 35
        },
        "id": "018d823b",
        "outputId": "ab8ff3b8-ce27-401b-f6ed-859d3141b190"
      },
      "outputs": [
        {
          "output_type": "execute_result",
          "data": {
            "text/plain": [
              "'18567'"
            ],
            "application/vnd.google.colaboratory.intrinsic+json": {
              "type": "string"
            }
          },
          "metadata": {},
          "execution_count": 5
        }
      ],
      "source": [
        "my_email.select('inbox')[1][0].decode()"
      ],
      "id": "018d823b"
    },
    {
      "cell_type": "markdown",
      "metadata": {
        "id": "333b2741"
      },
      "source": [
        "### Import emails from inbox and then put them in a list"
      ],
      "id": "333b2741"
    },
    {
      "cell_type": "code",
      "execution_count": null,
      "metadata": {
        "id": "c471e565"
      },
      "outputs": [],
      "source": [
        "emails = my_email.search(None, 'ALL')\n",
        "emails_ids = emails[1][0].decode().split()"
      ],
      "id": "c471e565"
    },
    {
      "cell_type": "code",
      "source": [
        "def fetch(id):\n",
        "  with concurrent.futures.ThreadPoolExecutor() as executor:\n",
        "    data = executor.submit(my_email.fetch, str(id), '(RFC822)') # Get the message informations (Message, emails, ids, if errors, etc...)\n",
        "    return data.result()[1][0][1] # Return only message and e-mail\n",
        "\n",
        "## Test: fetch(1)"
      ],
      "metadata": {
        "id": "h0KVAcbpGhQ4"
      },
      "id": "h0KVAcbpGhQ4",
      "execution_count": null,
      "outputs": []
    },
    {
      "cell_type": "code",
      "execution_count": null,
      "metadata": {
        "id": "3669a14b",
        "colab": {
          "base_uri": "https://localhost:8080/",
          "height": 363
        },
        "outputId": "c9429a24-0a30-4163-c5b0-5fdaa8cd83dc"
      },
      "outputs": [
        {
          "output_type": "error",
          "ename": "KeyboardInterrupt",
          "evalue": "ignored",
          "traceback": [
            "\u001b[0;31m---------------------------------------------------------------------------\u001b[0m",
            "\u001b[0;31mKeyboardInterrupt\u001b[0m                         Traceback (most recent call last)",
            "\u001b[0;32m<ipython-input-10-7a9384a0acbd>\u001b[0m in \u001b[0;36m<module>\u001b[0;34m\u001b[0m\n\u001b[1;32m      4\u001b[0m \u001b[0;34m\u001b[0m\u001b[0m\n\u001b[1;32m      5\u001b[0m \u001b[0;32mfor\u001b[0m \u001b[0mi\u001b[0m \u001b[0;32min\u001b[0m \u001b[0memails_ids\u001b[0m\u001b[0;34m:\u001b[0m\u001b[0;34m\u001b[0m\u001b[0;34m\u001b[0m\u001b[0m\n\u001b[0;32m----> 6\u001b[0;31m       \u001b[0mmsg\u001b[0m \u001b[0;34m=\u001b[0m \u001b[0memail\u001b[0m\u001b[0;34m.\u001b[0m\u001b[0mmessage_from_string\u001b[0m\u001b[0;34m(\u001b[0m\u001b[0mstr\u001b[0m\u001b[0;34m(\u001b[0m\u001b[0mfetch\u001b[0m\u001b[0;34m(\u001b[0m\u001b[0mi\u001b[0m\u001b[0;34m)\u001b[0m\u001b[0;34m,\u001b[0m\u001b[0;34m'ISO-8859-1'\u001b[0m\u001b[0;34m)\u001b[0m\u001b[0;34m)\u001b[0m\u001b[0;34m\u001b[0m\u001b[0;34m\u001b[0m\u001b[0m\n\u001b[0m\u001b[1;32m      7\u001b[0m       \u001b[0memails_list\u001b[0m\u001b[0;34m.\u001b[0m\u001b[0mappend\u001b[0m\u001b[0;34m(\u001b[0m\u001b[0;34m{\u001b[0m\u001b[0;34m'Date'\u001b[0m\u001b[0;34m:\u001b[0m \u001b[0mmsg\u001b[0m\u001b[0;34m[\u001b[0m\u001b[0;34m'Date'\u001b[0m\u001b[0;34m]\u001b[0m\u001b[0;34m,\u001b[0m \u001b[0;34m'From'\u001b[0m\u001b[0;34m:\u001b[0m \u001b[0mmsg\u001b[0m\u001b[0;34m[\u001b[0m\u001b[0;34m'From'\u001b[0m\u001b[0;34m]\u001b[0m\u001b[0;34m,\u001b[0m \u001b[0;34m'Subject'\u001b[0m\u001b[0;34m:\u001b[0m \u001b[0mmsg\u001b[0m\u001b[0;34m[\u001b[0m\u001b[0;34m'Subject'\u001b[0m\u001b[0;34m]\u001b[0m\u001b[0;34m}\u001b[0m\u001b[0;34m)\u001b[0m\u001b[0;34m\u001b[0m\u001b[0;34m\u001b[0m\u001b[0m\n",
            "\u001b[0;32m<ipython-input-7-56950017efa3>\u001b[0m in \u001b[0;36mfetch\u001b[0;34m(id)\u001b[0m\n\u001b[1;32m      2\u001b[0m   \u001b[0;32mwith\u001b[0m \u001b[0mconcurrent\u001b[0m\u001b[0;34m.\u001b[0m\u001b[0mfutures\u001b[0m\u001b[0;34m.\u001b[0m\u001b[0mThreadPoolExecutor\u001b[0m\u001b[0;34m(\u001b[0m\u001b[0;34m)\u001b[0m \u001b[0;32mas\u001b[0m \u001b[0mexecutor\u001b[0m\u001b[0;34m:\u001b[0m\u001b[0;34m\u001b[0m\u001b[0;34m\u001b[0m\u001b[0m\n\u001b[1;32m      3\u001b[0m     \u001b[0mdata\u001b[0m \u001b[0;34m=\u001b[0m \u001b[0mexecutor\u001b[0m\u001b[0;34m.\u001b[0m\u001b[0msubmit\u001b[0m\u001b[0;34m(\u001b[0m\u001b[0mmy_email\u001b[0m\u001b[0;34m.\u001b[0m\u001b[0mfetch\u001b[0m\u001b[0;34m,\u001b[0m \u001b[0mstr\u001b[0m\u001b[0;34m(\u001b[0m\u001b[0mid\u001b[0m\u001b[0;34m)\u001b[0m\u001b[0;34m,\u001b[0m \u001b[0;34m'(RFC822)'\u001b[0m\u001b[0;34m)\u001b[0m\u001b[0;34m\u001b[0m\u001b[0;34m\u001b[0m\u001b[0m\n\u001b[0;32m----> 4\u001b[0;31m     \u001b[0;32mreturn\u001b[0m \u001b[0mdata\u001b[0m\u001b[0;34m.\u001b[0m\u001b[0mresult\u001b[0m\u001b[0;34m(\u001b[0m\u001b[0;34m)\u001b[0m\u001b[0;34m[\u001b[0m\u001b[0;36m1\u001b[0m\u001b[0;34m]\u001b[0m\u001b[0;34m[\u001b[0m\u001b[0;36m0\u001b[0m\u001b[0;34m]\u001b[0m\u001b[0;34m[\u001b[0m\u001b[0;36m1\u001b[0m\u001b[0;34m]\u001b[0m\u001b[0;34m\u001b[0m\u001b[0;34m\u001b[0m\u001b[0m\n\u001b[0m\u001b[1;32m      5\u001b[0m \u001b[0;34m\u001b[0m\u001b[0m\n\u001b[1;32m      6\u001b[0m \u001b[0;31m## Test: fetch(1)\u001b[0m\u001b[0;34m\u001b[0m\u001b[0;34m\u001b[0m\u001b[0m\n",
            "\u001b[0;32m/usr/lib/python3.9/concurrent/futures/_base.py\u001b[0m in \u001b[0;36mresult\u001b[0;34m(self, timeout)\u001b[0m\n\u001b[1;32m    439\u001b[0m                     \u001b[0;32mreturn\u001b[0m \u001b[0mself\u001b[0m\u001b[0;34m.\u001b[0m\u001b[0m__get_result\u001b[0m\u001b[0;34m(\u001b[0m\u001b[0;34m)\u001b[0m\u001b[0;34m\u001b[0m\u001b[0;34m\u001b[0m\u001b[0m\n\u001b[1;32m    440\u001b[0m \u001b[0;34m\u001b[0m\u001b[0m\n\u001b[0;32m--> 441\u001b[0;31m                 \u001b[0mself\u001b[0m\u001b[0;34m.\u001b[0m\u001b[0m_condition\u001b[0m\u001b[0;34m.\u001b[0m\u001b[0mwait\u001b[0m\u001b[0;34m(\u001b[0m\u001b[0mtimeout\u001b[0m\u001b[0;34m)\u001b[0m\u001b[0;34m\u001b[0m\u001b[0;34m\u001b[0m\u001b[0m\n\u001b[0m\u001b[1;32m    442\u001b[0m \u001b[0;34m\u001b[0m\u001b[0m\n\u001b[1;32m    443\u001b[0m                 \u001b[0;32mif\u001b[0m \u001b[0mself\u001b[0m\u001b[0;34m.\u001b[0m\u001b[0m_state\u001b[0m \u001b[0;32min\u001b[0m \u001b[0;34m[\u001b[0m\u001b[0mCANCELLED\u001b[0m\u001b[0;34m,\u001b[0m \u001b[0mCANCELLED_AND_NOTIFIED\u001b[0m\u001b[0;34m]\u001b[0m\u001b[0;34m:\u001b[0m\u001b[0;34m\u001b[0m\u001b[0;34m\u001b[0m\u001b[0m\n",
            "\u001b[0;32m/usr/lib/python3.9/threading.py\u001b[0m in \u001b[0;36mwait\u001b[0;34m(self, timeout)\u001b[0m\n\u001b[1;32m    310\u001b[0m         \u001b[0;32mtry\u001b[0m\u001b[0;34m:\u001b[0m    \u001b[0;31m# restore state no matter what (e.g., KeyboardInterrupt)\u001b[0m\u001b[0;34m\u001b[0m\u001b[0;34m\u001b[0m\u001b[0m\n\u001b[1;32m    311\u001b[0m             \u001b[0;32mif\u001b[0m \u001b[0mtimeout\u001b[0m \u001b[0;32mis\u001b[0m \u001b[0;32mNone\u001b[0m\u001b[0;34m:\u001b[0m\u001b[0;34m\u001b[0m\u001b[0;34m\u001b[0m\u001b[0m\n\u001b[0;32m--> 312\u001b[0;31m                 \u001b[0mwaiter\u001b[0m\u001b[0;34m.\u001b[0m\u001b[0macquire\u001b[0m\u001b[0;34m(\u001b[0m\u001b[0;34m)\u001b[0m\u001b[0;34m\u001b[0m\u001b[0;34m\u001b[0m\u001b[0m\n\u001b[0m\u001b[1;32m    313\u001b[0m                 \u001b[0mgotit\u001b[0m \u001b[0;34m=\u001b[0m \u001b[0;32mTrue\u001b[0m\u001b[0;34m\u001b[0m\u001b[0;34m\u001b[0m\u001b[0m\n\u001b[1;32m    314\u001b[0m             \u001b[0;32melse\u001b[0m\u001b[0;34m:\u001b[0m\u001b[0;34m\u001b[0m\u001b[0;34m\u001b[0m\u001b[0m\n",
            "\u001b[0;31mKeyboardInterrupt\u001b[0m: "
          ]
        }
      ],
      "source": [
        "# Get the message and the email informations\n",
        "\n",
        "emails_list = []\n",
        "\n",
        "for i in emails_ids:\n",
        "      msg = email.message_from_string(str(fetch(i),'ISO-8859-1')) # Transform the e-mails \n",
        "      emails_list.append({'Date': msg['Date'], 'From': msg['From'], 'Subject': msg['Subject']})"
      ],
      "id": "3669a14b"
    },
    {
      "cell_type": "markdown",
      "source": [
        "### Put email data in a dataframe"
      ],
      "metadata": {
        "id": "t_OUWiWqn3f1"
      },
      "id": "t_OUWiWqn3f1"
    },
    {
      "cell_type": "code",
      "execution_count": null,
      "metadata": {
        "id": "fd64b470"
      },
      "outputs": [],
      "source": [
        "df = pd.DataFrame(emails_list, columns=['Date', 'From', 'Subject'])\n",
        "df"
      ],
      "id": "fd64b470"
    },
    {
      "cell_type": "code",
      "source": [
        "df1 = df.copy()\n",
        "df1"
      ],
      "metadata": {
        "id": "OXyMbmbBic2j"
      },
      "id": "OXyMbmbBic2j",
      "execution_count": null,
      "outputs": []
    },
    {
      "cell_type": "code",
      "source": [
        "df1.dtypes"
      ],
      "metadata": {
        "colab": {
          "base_uri": "https://localhost:8080/"
        },
        "id": "d31j_q5VwptV",
        "outputId": "e97d716d-69b6-40de-e1a2-f6f6ccbc1fbd"
      },
      "id": "d31j_q5VwptV",
      "execution_count": null,
      "outputs": [
        {
          "output_type": "execute_result",
          "data": {
            "text/plain": [
              "Date       object\n",
              "From       object\n",
              "Subject    object\n",
              "dtype: object"
            ]
          },
          "metadata": {},
          "execution_count": 204
        }
      ]
    },
    {
      "cell_type": "markdown",
      "source": [
        "### Resolve encoding issues"
      ],
      "metadata": {
        "id": "AcAHnJckoidM"
      },
      "id": "AcAHnJckoidM"
    },
    {
      "cell_type": "code",
      "source": [
        "pd.set_option('max_colwidth', None)"
      ],
      "metadata": {
        "id": "YbCZ-XGrTpq7"
      },
      "id": "YbCZ-XGrTpq7",
      "execution_count": null,
      "outputs": []
    },
    {
      "cell_type": "markdown",
      "source": [
        "#### Convert column encode 'From'"
      ],
      "metadata": {
        "id": "laZpUWJ9cQuS"
      },
      "id": "laZpUWJ9cQuS"
    },
    {
      "cell_type": "code",
      "source": [
        "df1['From'] = df1['From'].apply(lambda x: email.header.decode_header(x)[0][0])"
      ],
      "metadata": {
        "id": "kQcWZdO1PTCB"
      },
      "id": "kQcWZdO1PTCB",
      "execution_count": null,
      "outputs": []
    },
    {
      "cell_type": "code",
      "source": [
        "df1['From'] = df1['From'].apply(lambda x: x.decode('utf-8', 'replace') if isinstance(x, bytes) else x)"
      ],
      "metadata": {
        "id": "IRmbL_ISxlot"
      },
      "id": "IRmbL_ISxlot",
      "execution_count": null,
      "outputs": []
    },
    {
      "cell_type": "markdown",
      "source": [
        "#### Convert column encode 'Subject'"
      ],
      "metadata": {
        "id": "7O14iINdcnx5"
      },
      "id": "7O14iINdcnx5"
    },
    {
      "cell_type": "code",
      "source": [
        "df1['Subject'] = df1['Subject'].apply(lambda x: email.header.decode_header(x)[0][0])"
      ],
      "metadata": {
        "id": "prlMDsTqwwM8"
      },
      "id": "prlMDsTqwwM8",
      "execution_count": null,
      "outputs": []
    },
    {
      "cell_type": "code",
      "source": [
        "df1['Subject'] = df1['Subject'].apply(lambda x: x.decode('utf-8', 'replace') if isinstance(x, bytes) else x)"
      ],
      "metadata": {
        "id": "aEqfq9aRoq3d"
      },
      "id": "aEqfq9aRoq3d",
      "execution_count": null,
      "outputs": []
    },
    {
      "cell_type": "code",
      "source": [
        "df1.head(10)"
      ],
      "metadata": {
        "id": "PW0pTFKYVs-o"
      },
      "id": "PW0pTFKYVs-o",
      "execution_count": null,
      "outputs": []
    },
    {
      "cell_type": "markdown",
      "source": [
        "### Clear the 'From' column"
      ],
      "metadata": {
        "id": "ysaZvkoJf-4j"
      },
      "id": "ysaZvkoJf-4j"
    },
    {
      "cell_type": "markdown",
      "source": [
        "#### Get the sender's email address"
      ],
      "metadata": {
        "id": "3Yixs_iWhjT7"
      },
      "id": "3Yixs_iWhjT7"
    },
    {
      "cell_type": "code",
      "source": [
        "df1['Email'] = df1['From'].str.extract(r'<(.+)>')"
      ],
      "metadata": {
        "id": "f_hFQ-0tf-J8"
      },
      "id": "f_hFQ-0tf-J8",
      "execution_count": null,
      "outputs": []
    },
    {
      "cell_type": "code",
      "source": [
        "df1.head(10)"
      ],
      "metadata": {
        "id": "W6bmsHdkhZKL"
      },
      "id": "W6bmsHdkhZKL",
      "execution_count": null,
      "outputs": []
    },
    {
      "cell_type": "markdown",
      "source": [
        "#### Get the sender's name"
      ],
      "metadata": {
        "id": "ZOcBa6R9h-Gb"
      },
      "id": "ZOcBa6R9h-Gb"
    },
    {
      "cell_type": "code",
      "source": [
        "df1['Sender'] = df1['From'].str.extract(r'(?:\"|^)(.*?)(?:\"|\\s)(?:\\s*<|$)')"
      ],
      "metadata": {
        "id": "9_OYvTpFhiID"
      },
      "id": "9_OYvTpFhiID",
      "execution_count": null,
      "outputs": []
    },
    {
      "cell_type": "markdown",
      "source": [
        "#### Delete From column (useless)"
      ],
      "metadata": {
        "id": "L0c3bDW-orym"
      },
      "id": "L0c3bDW-orym"
    },
    {
      "cell_type": "code",
      "source": [
        "del df1['From']"
      ],
      "metadata": {
        "id": "H0E8Sa0vjnOp"
      },
      "id": "H0E8Sa0vjnOp",
      "execution_count": null,
      "outputs": []
    },
    {
      "cell_type": "code",
      "source": [
        "df1.sample(20)"
      ],
      "metadata": {
        "id": "ncbwCIpwiEfw"
      },
      "id": "ncbwCIpwiEfw",
      "execution_count": null,
      "outputs": []
    },
    {
      "cell_type": "markdown",
      "source": [
        "### Reorder columns"
      ],
      "metadata": {
        "id": "ku_YejX-t6Mw"
      },
      "id": "ku_YejX-t6Mw"
    },
    {
      "cell_type": "code",
      "source": [
        "df1 = df1[['Date', 'Sender', 'Email', 'Subject']]\n",
        "df1"
      ],
      "metadata": {
        "id": "d8QjkCA-t-bZ"
      },
      "id": "d8QjkCA-t-bZ",
      "execution_count": null,
      "outputs": []
    },
    {
      "cell_type": "markdown",
      "source": [
        "### Convert data format"
      ],
      "metadata": {
        "id": "ENH0ExDnt0lo"
      },
      "id": "ENH0ExDnt0lo"
    },
    {
      "cell_type": "markdown",
      "source": [
        "#### Extract the usefull date"
      ],
      "metadata": {
        "id": "5F2UvAex4X3L"
      },
      "id": "5F2UvAex4X3L"
    },
    {
      "cell_type": "code",
      "source": [
        "df1['Date'] = df1['Date'].str.extract(r'(\\d+ \\w{3} \\d+)')"
      ],
      "metadata": {
        "id": "-9fZtis1wjzh"
      },
      "id": "-9fZtis1wjzh",
      "execution_count": null,
      "outputs": []
    },
    {
      "cell_type": "code",
      "source": [
        "df1['Date'].isnull().sum()"
      ],
      "metadata": {
        "colab": {
          "base_uri": "https://localhost:8080/"
        },
        "id": "zHP-JWXG4pH0",
        "outputId": "fc1fe92b-093c-491c-c8fa-7e0a6ba5216b"
      },
      "id": "zHP-JWXG4pH0",
      "execution_count": null,
      "outputs": [
        {
          "output_type": "execute_result",
          "data": {
            "text/plain": [
              "0"
            ]
          },
          "metadata": {},
          "execution_count": 218
        }
      ]
    },
    {
      "cell_type": "markdown",
      "source": [
        "#### Verify all the month abbreviations"
      ],
      "metadata": {
        "id": "vjwC1QEe4eQk"
      },
      "id": "vjwC1QEe4eQk"
    },
    {
      "cell_type": "code",
      "source": [
        "df1['Date'].str.extract(r'(\\w{3})').squeeze().unique()"
      ],
      "metadata": {
        "colab": {
          "base_uri": "https://localhost:8080/"
        },
        "id": "wUsF04B_3q6b",
        "outputId": "23e94a8f-3343-406a-e753-2405827014f2"
      },
      "id": "wUsF04B_3q6b",
      "execution_count": null,
      "outputs": [
        {
          "output_type": "execute_result",
          "data": {
            "text/plain": [
              "array(['Sep', 'Oct', 'Nov', 'Dec', 'Jan', 'Feb', 'Mar', 'Apr', 'May',\n",
              "       'Jun', 'Jul', 'Aug', 'ago'], dtype=object)"
            ]
          },
          "metadata": {},
          "execution_count": 219
        }
      ]
    },
    {
      "cell_type": "markdown",
      "source": [
        "#### For some reason there is a month like 'ago' instead of 'Aug', it should be replaced."
      ],
      "metadata": {
        "id": "izZBAbqw4kYE"
      },
      "id": "izZBAbqw4kYE"
    },
    {
      "cell_type": "code",
      "source": [
        "df1['Date'] = df1['Date'].str.replace('ago', 'Aug')"
      ],
      "metadata": {
        "id": "7aixmY8zxmw2"
      },
      "id": "7aixmY8zxmw2",
      "execution_count": null,
      "outputs": []
    },
    {
      "cell_type": "code",
      "source": [
        "df1"
      ],
      "metadata": {
        "id": "AsNpY0Wv6LQs"
      },
      "id": "AsNpY0Wv6LQs",
      "execution_count": null,
      "outputs": []
    },
    {
      "cell_type": "code",
      "source": [
        "df1['Date'] = pd.to_datetime(df1['Date'], format='%d %b %Y').dt.strftime('%d/%m/%Y')\n",
        "df1"
      ],
      "metadata": {
        "id": "V3P6HPB5oyPq"
      },
      "id": "V3P6HPB5oyPq",
      "execution_count": null,
      "outputs": []
    },
    {
      "cell_type": "markdown",
      "source": [
        "### Drop the columns "
      ],
      "metadata": {
        "id": "OfNflcaq7n-0"
      },
      "id": "OfNflcaq7n-0"
    },
    {
      "cell_type": "code",
      "source": [
        "df1 = df1.dropna(subset=['Sender', 'Email'], thresh=2)"
      ],
      "metadata": {
        "id": "7d0o9EwV7m0t"
      },
      "id": "7d0o9EwV7m0t",
      "execution_count": null,
      "outputs": []
    },
    {
      "cell_type": "markdown",
      "source": [
        "### Save the dataframe to CSV"
      ],
      "metadata": {
        "id": "YgHJMUZ07_8d"
      },
      "id": "YgHJMUZ07_8d"
    },
    {
      "cell_type": "code",
      "source": [
        "df1.to_csv('Emails_Dataset.csv', sep=';', encoding='utf-8')"
      ],
      "metadata": {
        "id": "kjt9sxWS7-zC"
      },
      "id": "kjt9sxWS7-zC",
      "execution_count": null,
      "outputs": []
    }
  ],
  "metadata": {
    "colab": {
      "provenance": []
    },
    "kernelspec": {
      "display_name": "Python 3 (ipykernel)",
      "language": "python",
      "name": "python3"
    },
    "language_info": {
      "codemirror_mode": {
        "name": "ipython",
        "version": 3
      },
      "file_extension": ".py",
      "mimetype": "text/x-python",
      "name": "python",
      "nbconvert_exporter": "python",
      "pygments_lexer": "ipython3",
      "version": "3.9.12"
    }
  },
  "nbformat": 4,
  "nbformat_minor": 5
}