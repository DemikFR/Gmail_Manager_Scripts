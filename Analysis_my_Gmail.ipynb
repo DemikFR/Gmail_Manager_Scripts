{
  "cells": [
    {
      "cell_type": "markdown",
      "id": "8635ab1a",
      "metadata": {
        "id": "8635ab1a"
      },
      "source": [
        "## Analysis my Emails"
      ]
    },
    {
      "cell_type": "code",
      "execution_count": 1,
      "id": "859142d8",
      "metadata": {
        "id": "859142d8"
      },
      "outputs": [],
      "source": [
        "import pandas as pd\n",
        "import matplotlib as plt"
      ]
    },
    {
      "cell_type": "code",
      "source": [
        "df = pd.read_csv('Emails_Dataset.csv', sep=';')\n",
        "df.sample(20)"
      ],
      "metadata": {
        "id": "sJIxcVbdgCu5"
      },
      "id": "sJIxcVbdgCu5",
      "execution_count": null,
      "outputs": []
    },
    {
      "cell_type": "code",
      "source": [
        "df['Date'] = pd.to_datetime(df['Date'], format='%d/%m/%Y')"
      ],
      "metadata": {
        "id": "ad_yt3IPlFJv"
      },
      "id": "ad_yt3IPlFJv",
      "execution_count": 17,
      "outputs": []
    },
    {
      "cell_type": "code",
      "source": [
        "df.dtypes"
      ],
      "metadata": {
        "colab": {
          "base_uri": "https://localhost:8080/"
        },
        "id": "F9IhXmBMloTf",
        "outputId": "11dd88a4-5be1-4ad9-b11f-ceac763820b0"
      },
      "id": "F9IhXmBMloTf",
      "execution_count": 18,
      "outputs": [
        {
          "output_type": "execute_result",
          "data": {
            "text/plain": [
              "Date       datetime64[ns]\n",
              "Sender             object\n",
              "Email              object\n",
              "Subject            object\n",
              "dtype: object"
            ]
          },
          "metadata": {},
          "execution_count": 18
        }
      ]
    },
    {
      "cell_type": "markdown",
      "source": [
        "#### Create Emails Metrics"
      ],
      "metadata": {
        "id": "SUC9qd65iNN4"
      },
      "id": "SUC9qd65iNN4"
    },
    {
      "cell_type": "markdown",
      "source": [
        "##### Who are the senders who send the most emails?"
      ],
      "metadata": {
        "id": "ikIhXvctidhA"
      },
      "id": "ikIhXvctidhA"
    },
    {
      "cell_type": "code",
      "source": [
        "top_10_senders = df['Sender'].value_counts().nlargest(10)"
      ],
      "metadata": {
        "colab": {
          "base_uri": "https://localhost:8080/"
        },
        "id": "QIZZqi5mgRgA",
        "outputId": "33366a09-e29a-431e-c611-ab49925736d3"
      },
      "id": "QIZZqi5mgRgA",
      "execution_count": 7,
      "outputs": [
        {
          "output_type": "execute_result",
          "data": {
            "text/plain": [
              "Twitter                      2080\n",
              "LinkedIn                      924\n",
              "AliExpress                    728\n",
              "Vagas de Emprego na Catho     597\n",
              "TIM                           454\n",
              "Vivo                          418\n",
              "Nubank                        382\n",
              "Petlove                       371\n",
              "Dafiti                        317\n",
              "Freelancer                    311\n",
              "Name: Sender, dtype: int64"
            ]
          },
          "metadata": {},
          "execution_count": 7
        }
      ]
    },
    {
      "cell_type": "markdown",
      "source": [
        "##### What were the years that the most email arrived?"
      ],
      "metadata": {
        "id": "7ca0qHmmjGZo"
      },
      "id": "7ca0qHmmjGZo"
    },
    {
      "cell_type": "code",
      "source": [
        "year_values = df.groupby(df['Date'].dt.year, group_keys=False)['Date'].apply(lambda x: x.count())"
      ],
      "metadata": {
        "colab": {
          "base_uri": "https://localhost:8080/"
        },
        "id": "hvptjQzSibIL",
        "outputId": "7dac3c27-dad1-48f2-a257-70baa4836dad"
      },
      "id": "hvptjQzSibIL",
      "execution_count": 21,
      "outputs": [
        {
          "output_type": "execute_result",
          "data": {
            "text/plain": [
              "Date\n",
              "2018      57\n",
              "2019     260\n",
              "2020    1503\n",
              "2021    4239\n",
              "2022    7697\n",
              "2023    2452\n",
              "Name: Date, dtype: int64"
            ]
          },
          "metadata": {},
          "execution_count": 21
        }
      ]
    },
    {
      "cell_type": "markdown",
      "source": [
        "##### What were the months that the most email arrived?"
      ],
      "metadata": {
        "id": "2wpCV5Guop6n"
      },
      "id": "2wpCV5Guop6n"
    },
    {
      "cell_type": "code",
      "source": [
        "month_values = df.groupby(df['Date'].dt.month, group_keys=False)['Date'].apply(lambda x: x.count())\n",
        "month_values.index = pd.to_datetime(month_values.index, format='%m').strftime('%b') #Tranform month numbers\n",
        "month_values"
      ],
      "metadata": {
        "colab": {
          "base_uri": "https://localhost:8080/"
        },
        "id": "Spl9aLerovCV",
        "outputId": "255fe4cc-bb60-4db6-ef5d-6431a70d6c7a"
      },
      "id": "Spl9aLerovCV",
      "execution_count": 25,
      "outputs": [
        {
          "output_type": "execute_result",
          "data": {
            "text/plain": [
              "Date\n",
              "Jan    1540\n",
              "Feb    1429\n",
              "Mar    1592\n",
              "Apr     966\n",
              "May    1060\n",
              "Jun    1251\n",
              "Jul    1254\n",
              "Aug    1193\n",
              "Sep    1235\n",
              "Oct    1406\n",
              "Nov    1771\n",
              "Dec    1511\n",
              "Name: Date, dtype: int64"
            ]
          },
          "metadata": {},
          "execution_count": 25
        }
      ]
    },
    {
      "cell_type": "markdown",
      "source": [
        "##### What are the words that appear the most in emails?"
      ],
      "metadata": {
        "id": "wUniePW6vNXd"
      },
      "id": "wUniePW6vNXd"
    }
  ],
  "metadata": {
    "colab": {
      "provenance": []
    },
    "kernelspec": {
      "display_name": "Python 3 (ipykernel)",
      "language": "python",
      "name": "python3"
    },
    "language_info": {
      "codemirror_mode": {
        "name": "ipython",
        "version": 3
      },
      "file_extension": ".py",
      "mimetype": "text/x-python",
      "name": "python",
      "nbconvert_exporter": "python",
      "pygments_lexer": "ipython3",
      "version": "3.9.12"
    }
  },
  "nbformat": 4,
  "nbformat_minor": 5
}