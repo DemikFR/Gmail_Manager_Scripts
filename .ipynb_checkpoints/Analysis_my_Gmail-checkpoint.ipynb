{
 "cells": [
  {
   "cell_type": "markdown",
   "id": "8635ab1a",
   "metadata": {
    "id": "8635ab1a"
   },
   "source": [
    "## Get the emails"
   ]
  },
  {
   "cell_type": "code",
   "execution_count": 1,
   "id": "859142d8",
   "metadata": {
    "executionInfo": {
     "elapsed": 2,
     "status": "ok",
     "timestamp": 1678754498518,
     "user": {
      "displayName": "Demik Freitas",
      "userId": "06635747093083563879"
     },
     "user_tz": 180
    },
    "id": "859142d8"
   },
   "outputs": [],
   "source": [
    "import imaplib\n",
    "import email\n",
    "import yaml\n",
    "import concurrent.futures\n",
    "import pandas as pd"
   ]
  },
  {
   "cell_type": "markdown",
   "id": "f9bd5f2f",
   "metadata": {
    "id": "f9bd5f2f"
   },
   "source": [
    "### Open the file that have the gmail credentials"
   ]
  },
  {
   "cell_type": "code",
   "execution_count": 2,
   "id": "161f9a73",
   "metadata": {
    "executionInfo": {
     "elapsed": 3,
     "status": "ok",
     "timestamp": 1678749999949,
     "user": {
      "displayName": "Demik Freitas",
      "userId": "06635747093083563879"
     },
     "user_tz": 180
    },
    "id": "161f9a73"
   },
   "outputs": [],
   "source": [
    "with open('credentials.yaml') as f:\n",
    "    credentials = f.read()"
   ]
  },
  {
   "cell_type": "markdown",
   "id": "2cdf2739",
   "metadata": {
    "id": "2cdf2739"
   },
   "source": [
    "### Get the User and Password"
   ]
  },
  {
   "cell_type": "code",
   "execution_count": 3,
   "id": "022268b4",
   "metadata": {
    "executionInfo": {
     "elapsed": 4,
     "status": "ok",
     "timestamp": 1678749999950,
     "user": {
      "displayName": "Demik Freitas",
      "userId": "06635747093083563879"
     },
     "user_tz": 180
    },
    "id": "022268b4"
   },
   "outputs": [],
   "source": [
    "my_credentials = yaml.load(credentials, Loader = yaml.FullLoader)\n",
    "user, password = my_credentials['user'], my_credentials['password']"
   ]
  },
  {
   "cell_type": "markdown",
   "id": "c2b6af9f",
   "metadata": {
    "id": "c2b6af9f"
   },
   "source": [
    "### Connect to Gmail"
   ]
  },
  {
   "cell_type": "code",
   "execution_count": 4,
   "id": "f9f82cfb",
   "metadata": {
    "colab": {
     "base_uri": "https://localhost:8080/"
    },
    "executionInfo": {
     "elapsed": 699,
     "status": "ok",
     "timestamp": 1678750000645,
     "user": {
      "displayName": "Demik Freitas",
      "userId": "06635747093083563879"
     },
     "user_tz": 180
    },
    "id": "f9f82cfb",
    "outputId": "db930242-968d-4233-9184-4f946c5882a2"
   },
   "outputs": [
    {
     "data": {
      "text/plain": [
       "('OK', [b'demik.freitast2d18@gmail.com authenticated (Success)'])"
      ]
     },
     "execution_count": 4,
     "metadata": {},
     "output_type": "execute_result"
    }
   ],
   "source": [
    "imap_url = 'imap.gmail.com'\n",
    "my_email = imaplib.IMAP4_SSL(imap_url)\n",
    "my_email.login(user, password)"
   ]
  },
  {
   "cell_type": "markdown",
   "id": "d4b7a0ce",
   "metadata": {
    "id": "d4b7a0ce"
   },
   "source": [
    "### Number of emails in my inbox"
   ]
  },
  {
   "cell_type": "code",
   "execution_count": 5,
   "id": "018d823b",
   "metadata": {
    "colab": {
     "base_uri": "https://localhost:8080/",
     "height": 35
    },
    "executionInfo": {
     "elapsed": 12,
     "status": "ok",
     "timestamp": 1678750000646,
     "user": {
      "displayName": "Demik Freitas",
      "userId": "06635747093083563879"
     },
     "user_tz": 180
    },
    "id": "018d823b",
    "outputId": "b363e36b-a14c-4b2d-c211-28a847c754fa"
   },
   "outputs": [
    {
     "data": {
      "text/plain": [
       "'18415'"
      ]
     },
     "execution_count": 5,
     "metadata": {},
     "output_type": "execute_result"
    }
   ],
   "source": [
    "my_email.select('inbox')[1][0].decode()"
   ]
  },
  {
   "cell_type": "markdown",
   "id": "333b2741",
   "metadata": {
    "id": "333b2741"
   },
   "source": [
    "### Import emails from inbox and then put them in a list"
   ]
  },
  {
   "cell_type": "markdown",
   "id": "5e05b5c2",
   "metadata": {},
   "source": [
    "#### Question: How much time do I gain using Thread?"
   ]
  },
  {
   "cell_type": "code",
   "execution_count": 6,
   "id": "c471e565",
   "metadata": {
    "executionInfo": {
     "elapsed": 319,
     "status": "ok",
     "timestamp": 1678750000957,
     "user": {
      "displayName": "Demik Freitas",
      "userId": "06635747093083563879"
     },
     "user_tz": 180
    },
    "id": "c471e565"
   },
   "outputs": [],
   "source": [
    "emails = my_email.search(None, 'ALL')\n",
    "emails_ids = emails[1][0].decode().split()"
   ]
  },
  {
   "cell_type": "code",
   "execution_count": null,
   "id": "3669a14b",
   "metadata": {
    "colab": {
     "base_uri": "https://localhost:8080/",
     "height": 1000
    },
    "executionInfo": {
     "elapsed": 4841,
     "status": "error",
     "timestamp": 1678757765519,
     "user": {
      "displayName": "Demik Freitas",
      "userId": "06635747093083563879"
     },
     "user_tz": 180
    },
    "id": "3669a14b",
    "outputId": "fe8413b5-0827-4344-cd97-458315c645c1"
   },
   "outputs": [
    {
     "name": "stdout",
     "output_type": "stream",
     "text": [
      "CPU times: total: 0 ns\n",
      "Wall time: 0 ns\n"
     ]
    }
   ],
   "source": [
    "# Quanto de tempo eu ganho com o Thread?\n",
    "\n",
    "%time\n",
    "\n",
    "emails_list = []\n",
    "\n",
    "for i in emails_ids:\n",
    "  with concurrent.futures.ThreadPoolExecutor() as executor:\n",
    "      data = executor.submit(my_email.fetch, str(i), '(RFC822)') ## Gets various information from the email (sender, subject, message,\n",
    "                                                      ## if there was an error, etc...)\n",
    "      arr = data.result()[1][0] ## Get the first element of the list, which is the email part (including the first of the word\n",
    "                                  ## OK, included in the tuple)\n",
    "      msg = email.message_from_string(str(arr[1],'ISO-8859-1'))\n",
    "      emails_list.append({'Date': msg['Date'], 'From': msg['From'], 'Subject': msg['Subject']})\n",
    "print(f'{i} emails were inserted in the DataFrame')"
   ]
  },
  {
   "cell_type": "code",
   "execution_count": null,
   "id": "fd64b470",
   "metadata": {
    "colab": {
     "base_uri": "https://localhost:8080/",
     "height": 1000
    },
    "executionInfo": {
     "elapsed": 281,
     "status": "ok",
     "timestamp": 1678757770166,
     "user": {
      "displayName": "Demik Freitas",
      "userId": "06635747093083563879"
     },
     "user_tz": 180
    },
    "id": "fd64b470",
    "outputId": "b9a569e9-ce91-4466-b7e7-71b24ab43203"
   },
   "outputs": [],
   "source": [
    "df = pd.DataFrame(emails_list, columns=['Date', 'From', 'Subject'])\n",
    "df"
   ]
  }
 ],
 "metadata": {
  "colab": {
   "provenance": []
  },
  "kernelspec": {
   "display_name": "Python 3 (ipykernel)",
   "language": "python",
   "name": "python3"
  },
  "language_info": {
   "codemirror_mode": {
    "name": "ipython",
    "version": 3
   },
   "file_extension": ".py",
   "mimetype": "text/x-python",
   "name": "python",
   "nbconvert_exporter": "python",
   "pygments_lexer": "ipython3",
   "version": "3.9.12"
  }
 },
 "nbformat": 4,
 "nbformat_minor": 5
}
